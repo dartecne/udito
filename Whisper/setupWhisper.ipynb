{
 "cells": [
  {
   "cell_type": "code",
   "execution_count": null,
   "metadata": {},
   "outputs": [],
   "source": [
    "!pip install -U openai-whisper\n",
    "!pip install git+https://github.com/openai/whisper.git \n",
    "!pip install --upgrade --no-deps --force-reinstall git+https://github.com/openai/whisper.git\n",
    "!pip install setuptools-rust\n",
    "!pip install ffmpeg-python"
   ]
  },
  {
   "cell_type": "code",
   "execution_count": null,
   "metadata": {},
   "outputs": [],
   "source": [
    "!whisper ../ESP/testAudio.wav --model turbo\n"
   ]
  },
  {
   "cell_type": "code",
   "execution_count": null,
   "metadata": {},
   "outputs": [],
   "source": [
    "import whisper\n",
    "import glob\n",
    "import os\n",
    "import ffmpeg\n",
    "\n",
    "model = whisper.load_model(\"turbo\")\n",
    "\n",
    "directory = os.path.dirname(os.path.abspath(\"testAudio3.mp3\"))\n",
    "print(directory)"
   ]
  },
  {
   "cell_type": "code",
   "execution_count": 7,
   "metadata": {},
   "outputs": [
    {
     "name": "stdout",
     "output_type": "stream",
     "text": [
      " Hola, ¿qué tal Udito? ¿Cómo estás? Mira, aquí estamos tratando de probar este sistema de diálogo en el que va a haber un reconocimiento de voz y también una síntesis de voz y hagas por un manejador de diálogo. ¿Qué te parece?\n"
     ]
    }
   ],
   "source": [
    "\n",
    "audio_path = \"testAudio3.mp3\"\n",
    "\n",
    "result = model.transcribe(audio_path)\n",
    "print(result[\"text\"])"
   ]
  },
  {
   "cell_type": "code",
   "execution_count": 8,
   "metadata": {},
   "outputs": [
    {
     "name": "stderr",
     "output_type": "stream",
     "text": [
      "100%|█████████████████████████████████████| 72.1M/72.1M [00:05<00:00, 13.6MiB/s]\n"
     ]
    }
   ],
   "source": [
    "model = whisper.load_model(\"tiny\")\n"
   ]
  },
  {
   "cell_type": "code",
   "execution_count": 9,
   "metadata": {},
   "outputs": [
    {
     "name": "stdout",
     "output_type": "stream",
     "text": [
      " Hola, ¿qué tal? ¿Udito cómo estás? Mira que estamos tratando de probar. Este sistema de diálogo en el que va a ver un reconocimiento de voz y también una cintes y de voz. Y a las por un manejador de diálogo. ¿De te parece?\n"
     ]
    }
   ],
   "source": [
    "\n",
    "audio_path = \"testAudio3.mp3\"\n",
    "\n",
    "result = model.transcribe(audio_path)\n",
    "print(result[\"text\"])"
   ]
  },
  {
   "cell_type": "code",
   "execution_count": 10,
   "metadata": {},
   "outputs": [
    {
     "name": "stderr",
     "output_type": "stream",
     "text": [
      "100%|███████████████████████████████████████| 139M/139M [00:08<00:00, 17.3MiB/s]\n"
     ]
    }
   ],
   "source": [
    "model = whisper.load_model(\"base\")\n"
   ]
  },
  {
   "cell_type": "code",
   "execution_count": 11,
   "metadata": {},
   "outputs": [
    {
     "name": "stdout",
     "output_type": "stream",
     "text": [
      " Hola, ¿qué tal, Udito? ¿Cómo estás? Mira aquí estamos tratando de probar este sistema de dialogo en el que va a ver un reconocimiento de voz y también una síntesis de voz. Y hagas por un manejador de dialog. ¿Qué te parece?\n"
     ]
    }
   ],
   "source": [
    "\n",
    "audio_path = \"testAudio3.mp3\"\n",
    "\n",
    "result = model.transcribe(audio_path)\n",
    "print(result[\"text\"])"
   ]
  },
  {
   "cell_type": "code",
   "execution_count": 12,
   "metadata": {},
   "outputs": [
    {
     "name": "stdout",
     "output_type": "stream",
     "text": [
      "{'text': ' Hola, ¿qué tal, Udito? ¿Cómo estás? Mira aquí estamos tratando de probar este sistema de dialogo en el que va a ver un reconocimiento de voz y también una síntesis de voz. Y hagas por un manejador de dialog. ¿Qué te parece?', 'segments': [{'id': 0, 'seek': 0, 'start': 0.0, 'end': 8.08, 'text': ' Hola, ¿qué tal, Udito? ¿Cómo estás? Mira aquí estamos tratando de probar este sistema', 'tokens': [50364, 22637, 11, 3841, 16412, 4023, 11, 624, 67, 3528, 30, 3841, 28342, 24389, 30, 28394, 6661, 10382, 21507, 1806, 368, 1239, 289, 4065, 13245, 50768], 'temperature': 0.0, 'avg_logprob': -0.3071512494768415, 'compression_ratio': 1.206451612903226, 'no_speech_prob': 0.10823655128479004}, {'id': 1, 'seek': 0, 'start': 8.08, 'end': 15.8, 'text': ' de dialogo en el que va a ver un reconocimiento de voz y también una síntesis de voz. Y hagas', 'tokens': [50768, 368, 19308, 78, 465, 806, 631, 2773, 257, 1306, 517, 43838, 14007, 368, 30005, 288, 6407, 2002, 8600, 580, 9374, 368, 30005, 13, 398, 324, 10549, 51154], 'temperature': 0.0, 'avg_logprob': -0.3071512494768415, 'compression_ratio': 1.206451612903226, 'no_speech_prob': 0.10823655128479004}, {'id': 2, 'seek': 1580, 'start': 15.8, 'end': 18.880000000000003, 'text': ' por un manejador de dialog. ¿Qué te parece?', 'tokens': [50364, 1515, 517, 12743, 73, 5409, 368, 19308, 13, 3841, 15137, 535, 14120, 30, 50518], 'temperature': 0.0, 'avg_logprob': -0.257299542427063, 'compression_ratio': 0.8653846153846154, 'no_speech_prob': 0.14007475972175598}], 'language': 'es'}\n"
     ]
    }
   ],
   "source": [
    "print(result)"
   ]
  },
  {
   "cell_type": "markdown",
   "metadata": {},
   "source": [
    "## Conclusiones\n",
    "\n",
    "Fácil de instalar e implementar.\n",
    "De los modelos disponibles, destaca:\n",
    "- tiny, es ligero, 7sec en cargar, y 2.4secs en transcribir un fichero de audio de unos 10secs. Precisión un poco floja.\n",
    "- turbo, pesada, 52secs en transcribir. Alta precisión.\n",
    "- base, ligera y precisa. 9secs en cargar, y 4secs en transcribir.\n",
    "    "
   ]
  }
 ],
 "metadata": {
  "kernelspec": {
   "display_name": "whisper",
   "language": "python",
   "name": "python3"
  },
  "language_info": {
   "codemirror_mode": {
    "name": "ipython",
    "version": 3
   },
   "file_extension": ".py",
   "mimetype": "text/x-python",
   "name": "python",
   "nbconvert_exporter": "python",
   "pygments_lexer": "ipython3",
   "version": "3.8.20"
  }
 },
 "nbformat": 4,
 "nbformat_minor": 2
}
